{
 "cells": [
  {
   "cell_type": "code",
   "execution_count": 1,
   "metadata": {},
   "outputs": [
    {
     "data": {
      "text/plain": [
       "\"\\nThis is the test bed that we will use to test different algorithms.\\nThe code is broken down into the following sections:\\n\\n1. Command line arguements and initialization\\n    - This code allows this test bed to be run with different inputs and eventually with different algorithms. The idea is to be able to quickly\\n    swap between different cluster and classifying combinations in order to do quick analysis.\\n    - This is where all the files are read in and the data can be formatted (in our case, we round all x, y, and z to 3 decimal places. Yes this is slow. Hopefully we can make this round fn faster).\\n\\n2. Algorithm Implementation - There are three parts to this part\\n    a) Filtering\\n    b) Clustering\\n    c) Classifying\\n\\n    It is important to understand the purpose of each section AND it's inputs and outputs.\\n\\n    Filtering\\n        - There are no inputs and outputs to filtering. We simply filter the dataframe by columns. We can filter by any column value.\\n\\n    Clustering\\n        - The algorithms that are implemented in this section should be defined in the ClusterManager class.\\n        - Each clustering algorithm should take in a pandas dataframe and should return a list of clusters.\\n        - A cluster manager object will hold the list of clusters returned from the clustering algorithm. Look in the section below for details.\\n\\n    Classifying\\n        - This section is to implement algorithms that will determine if a cluster is a sign and the sign's shape/classification.\\n        - The input for a classfying algorithm is a list of clusters and the output is a list of signs.\\n        - A sign manager object will hold the list of signs returned from the classifying algorithm. Look in the section below for details.\\n\\n3. Book-keeping\\n    - We do other little things here like:\\n        - pair a picture to which sign we think it is\\n        - Writing results out to a file.\\n\\n\""
      ]
     },
     "execution_count": 1,
     "metadata": {},
     "output_type": "execute_result"
    }
   ],
   "source": [
    "from Cluster import *\n",
    "from ClusterManager import *\n",
    "from Sign import *\n",
    "from SignManager import *\n",
    "from Camera import *\n",
    "from decimal import *\n",
    "from mpl_toolkits.mplot3d import Axes3D\n",
    "import matplotlib.pyplot as plt\n",
    "import csv\n",
    "import argparse\n",
    "import math\n",
    "import pandas as pd\n",
    "\n",
    "\"\"\"\n",
    "This is the test bed that we will use to test different algorithms.\n",
    "The code is broken down into the following sections:\n",
    "\n",
    "1. Command line arguements and initialization\n",
    "    - This code allows this test bed to be run with different inputs and eventually with different algorithms. The idea is to be able to quickly\n",
    "    swap between different cluster and classifying combinations in order to do quick analysis.\n",
    "    - This is where all the files are read in and the data can be formatted (in our case, we round all x, y, and z to 3 decimal places. Yes this is slow. Hopefully we can make this round fn faster).\n",
    "\n",
    "2. Algorithm Implementation - There are three parts to this part\n",
    "    a) Filtering\n",
    "    b) Clustering\n",
    "    c) Classifying\n",
    "\n",
    "    It is important to understand the purpose of each section AND it's inputs and outputs.\n",
    "\n",
    "    Filtering\n",
    "        - There are no inputs and outputs to filtering. We simply filter the dataframe by columns. We can filter by any column value.\n",
    "\n",
    "    Clustering\n",
    "        - The algorithms that are implemented in this section should be defined in the ClusterManager class.\n",
    "        - Each clustering algorithm should take in a pandas dataframe and should return a list of clusters.\n",
    "        - A cluster manager object will hold the list of clusters returned from the clustering algorithm. Look in the section below for details.\n",
    "\n",
    "    Classifying\n",
    "        - This section is to implement algorithms that will determine if a cluster is a sign and the sign's shape/classification.\n",
    "        - The input for a classfying algorithm is a list of clusters and the output is a list of signs.\n",
    "        - A sign manager object will hold the list of signs returned from the classifying algorithm. Look in the section below for details.\n",
    "\n",
    "3. Book-keeping\n",
    "    - We do other little things here like:\n",
    "        - pair a picture to which sign we think it is\n",
    "        - Writing results out to a file.\n",
    "\n",
    "\"\"\""
   ]
  },
  {
   "cell_type": "code",
   "execution_count": 2,
   "metadata": {},
   "outputs": [],
   "source": [
    "# Rounding Function\n",
    "def round_half_up(n, decimals=3):\n",
    "    multiplier = 10 ** decimals\n",
    "    return math.floor(n*multiplier + 0.5) / multiplier"
   ]
  },
  {
   "cell_type": "code",
   "execution_count": 3,
   "metadata": {},
   "outputs": [],
   "source": [
    "# Reading in data into a dataframe and formatting it.\n",
    "df = pd.read_csv('/Volumes/T7 Touch/School/VIP/Data/2015/LiDAR/Routes/Route2015_1/RoutePoints.txt', sep = \" \")\n",
    "df = df.astype({'ID': int})\n",
    "# TODO: Figure out how to read in data with only a certain number of demicals. This takes a lot of time.\n",
    "df['Easting'] = df['Easting'].apply(round_half_up)\n",
    "df['Northing'] = df['Northing'].apply(round_half_up)\n",
    "df['Altitude'] = df['Altitude'].apply(round_half_up)\n",
    "df['Retro'] = df['Retro'].apply(round_half_up)"
   ]
  },
  {
   "cell_type": "code",
   "execution_count": 4,
   "metadata": {},
   "outputs": [
    {
     "name": "stdout",
     "output_type": "stream",
     "text": [
      "Start Filtering\n",
      "End Filtering\n"
     ]
    }
   ],
   "source": [
    "print('Start Filtering')\n",
    "# Filtering by Retro values\n",
    "df = df.loc[df['Retro'] > 0.7]\n",
    "df = df.reset_index(drop=True)\n",
    "print('End Filtering')"
   ]
  },
  {
   "cell_type": "code",
   "execution_count": 5,
   "metadata": {},
   "outputs": [
    {
     "name": "stdout",
     "output_type": "stream",
     "text": [
      "Start Clustering\n",
      "End Clustering\n"
     ]
    }
   ],
   "source": [
    "print('Start Clustering')\n",
    "cluster_manager = ClusterManager()\n",
    "cluster_manager.cluster_list = cluster_manager.progressive_kdmean(df)\n",
    "print('End Clustering')"
   ]
  },
  {
   "cell_type": "code",
   "execution_count": 6,
   "metadata": {},
   "outputs": [
    {
     "name": "stdout",
     "output_type": "stream",
     "text": [
      "Start Classifying\n",
      "End Classifying\n"
     ]
    }
   ],
   "source": [
    "print('Start Classifying')\n",
    "sign_manager = SignManager()\n",
    "sign_manager.sign_list = sign_manager.num_points(cluster_manager.cluster_list)\n",
    "print('End Classifying')"
   ]
  },
  {
   "cell_type": "code",
   "execution_count": 14,
   "metadata": {},
   "outputs": [],
   "source": [
    "points_of_signs = sign_manager.make_sign_point_dataframe(sign_manager.sign_list)\n",
    "points_of_signs"
   ]
  },
  {
   "cell_type": "code",
   "execution_count": null,
   "metadata": {},
   "outputs": [],
   "source": []
  }
 ],
 "metadata": {
  "kernelspec": {
   "display_name": "Python 3",
   "language": "python",
   "name": "python3"
  },
  "language_info": {
   "codemirror_mode": {
    "name": "ipython",
    "version": 3
   },
   "file_extension": ".py",
   "mimetype": "text/x-python",
   "name": "python",
   "nbconvert_exporter": "python",
   "pygments_lexer": "ipython3",
   "version": "3.7.6"
  }
 },
 "nbformat": 4,
 "nbformat_minor": 2
}
